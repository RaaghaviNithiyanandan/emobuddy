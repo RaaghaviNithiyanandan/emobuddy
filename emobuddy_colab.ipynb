# -*- coding: utf-8 -*-
"""emobuddy_colab.ipynb

This notebook provides instructions and code to run the EmoBuddy chatbot within a Google Colab environment.

**Important:**  Before running this notebook, ensure you have:

1.  Uploaded all the necessary files (sentiment_model.py, chatbot.py, app.py, and optionally avatar.jpg) to the Colab environment. You can do this using the file browser on the left side of the Colab interface.
2.  Obtained a Google Gemini API key and an Ngrok authtoken.  See the setup instructions below.
"""

"""### **Step 1: Set Up Environment & Install Dependencies**"""

"""# **1.1 Install Required Libraries**"""

!pip install nltk streamlit transformers requests pyngrok --quiet

"""### **Step 2: Set API Keys**

**Important:** DO NOT HARDCODE YOUR API KEYS DIRECTLY IN THE NOTEBOOK. This is a security risk. Instead, set them as environment variables.

You can set environment variables in Colab using the following code:

```python
import os
os.environ['GEMINI_API_KEY'] = "YOUR_GEMINI_API_KEY"
os.environ['NGROK_AUTHTOKEN'] = "YOUR_NGROK_AUTHTOKEN"
